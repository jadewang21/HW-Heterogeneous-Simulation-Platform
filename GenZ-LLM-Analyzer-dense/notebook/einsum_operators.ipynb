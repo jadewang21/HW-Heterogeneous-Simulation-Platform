{
 "cells": [
  {
   "cell_type": "code",
   "execution_count": 1,
   "metadata": {},
   "outputs": [],
   "source": [
    "from GenZ import analyse_model, get_model_df, System\n",
    "from GenZ.Models.get_language_model import einsum_test\n",
    "import numpy as np"
   ]
  },
  {
   "cell_type": "code",
   "execution_count": 2,
   "metadata": {},
   "outputs": [],
   "source": [
    "%load_ext autoreload\n",
    "%autoreload 2   "
   ]
  },
  {
   "cell_type": "code",
   "execution_count": 3,
   "metadata": {},
   "outputs": [],
   "source": [
    "class Einsum():\n",
    "    def __init__(self, equation, dims):\n",
    "        \"\"\"\n",
    "        equation: Einstein summation notation string\n",
    "        dims: Dictionary of tensor dimensions keyed by the corresponding label in the equation\n",
    "        \"\"\"\n",
    "        self.equation = equation\n",
    "        self.dims = dims\n",
    "    def get_size(self, tensor):\n",
    "        return np.prod(tensor)\n",
    "    def get_tensors(self):\n",
    "        input_dims = self.equation.split('->')[0]\n",
    "        input_a = [self.dims[label] for label in input_dims.split(',')[0]]\n",
    "        input_b = [self.dims[label] for label in input_dims.split(',')[1]]\n",
    "        output = [self.dims[label] for label in self.equation.split('->')[1]]\n",
    "        return input_a, input_b, output\n",
    "\n",
    "    def get_num_ops(self):\n",
    "        \"\"\"\n",
    "        Compute the number of operations needed for the given einsum configuration.\n",
    "        \"\"\"\n",
    "        input_dims = self.equation.split('->')[0]\n",
    "        dim_labels = set(''.join(input_dims.split(',')))\n",
    "\n",
    "        # The number of operations is the product of the dimensions involved in the contraction\n",
    "        num_ops = np.prod([self.dims[label] for label in dim_labels])\n",
    "        return num_ops"
   ]
  },
  {
   "cell_type": "code",
   "execution_count": 4,
   "metadata": {},
   "outputs": [],
   "source": [
    "op = Einsum('bhqd,hql->bhdl', {'b': 32, 'h': 64, 'q': 128, 'd': 256, 'l': 512})"
   ]
  },
  {
   "cell_type": "code",
   "execution_count": 5,
   "metadata": {},
   "outputs": [
    {
     "data": {
      "text/plain": [
       "34359738368"
      ]
     },
     "execution_count": 5,
     "metadata": {},
     "output_type": "execute_result"
    }
   ],
   "source": [
    "op.get_num_ops()"
   ]
  },
  {
   "cell_type": "code",
   "execution_count": 6,
   "metadata": {},
   "outputs": [
    {
     "data": {
      "text/plain": [
       "([32, 64, 128, 256], [64, 128, 512], [32, 64, 256, 512])"
      ]
     },
     "execution_count": 6,
     "metadata": {},
     "output_type": "execute_result"
    }
   ],
   "source": [
    "op.get_tensors()"
   ]
  },
  {
   "cell_type": "code",
   "execution_count": 7,
   "metadata": {},
   "outputs": [
    {
     "data": {
      "text/plain": [
       "[67108864, 4194304, 268435456]"
      ]
     },
     "execution_count": 7,
     "metadata": {},
     "output_type": "execute_result"
    }
   ],
   "source": [
    "list(map(op.get_size, [op.get_tensors()[0], op.get_tensors()[1], op.get_tensors()[2]]))"
   ]
  },
  {
   "cell_type": "code",
   "execution_count": 8,
   "metadata": {},
   "outputs": [],
   "source": [
    "model = einsum_test(equation='bld,dhq->blhq', einsum_vars={'b': 'b', 'l': 512, 'd': 2048, 'h': 12, 'q': 128})"
   ]
  },
  {
   "cell_type": "code",
   "execution_count": 9,
   "metadata": {},
   "outputs": [
    {
     "data": {
      "text/plain": [
       "'einsum_10_25_2024_17_05_17.csv'"
      ]
     },
     "execution_count": 9,
     "metadata": {},
     "output_type": "execute_result"
    }
   ],
   "source": [
    "model"
   ]
  },
  {
   "cell_type": "code",
   "execution_count": 10,
   "metadata": {},
   "outputs": [
    {
     "data": {
      "text/html": [
       "<div>\n",
       "<style scoped>\n",
       "    .dataframe tbody tr th:only-of-type {\n",
       "        vertical-align: middle;\n",
       "    }\n",
       "\n",
       "    .dataframe tbody tr th {\n",
       "        vertical-align: top;\n",
       "    }\n",
       "\n",
       "    .dataframe thead th {\n",
       "        text-align: right;\n",
       "    }\n",
       "</style>\n",
       "<table border=\"1\" class=\"dataframe\">\n",
       "  <thead>\n",
       "    <tr style=\"text-align: right;\">\n",
       "      <th></th>\n",
       "      <th>Op Type</th>\n",
       "      <th>Dimension</th>\n",
       "      <th>Bound</th>\n",
       "      <th>C/M ratio</th>\n",
       "      <th>Op Intensity</th>\n",
       "      <th>Latency (msec)</th>\n",
       "      <th>Cycles</th>\n",
       "      <th>C Effcy</th>\n",
       "      <th>Num ops (MFLOP)</th>\n",
       "      <th>Input_a (MB)</th>\n",
       "      <th>Input_w (MB)</th>\n",
       "      <th>Output (MB)</th>\n",
       "      <th>Total Data (MB)</th>\n",
       "      <th>Throughput (Tflops)</th>\n",
       "      <th>Compute time (msec)</th>\n",
       "      <th>Memory time (msec)</th>\n",
       "      <th>Communication time (msec)</th>\n",
       "      <th>Compute cycle</th>\n",
       "      <th>Memory cycle</th>\n",
       "      <th>Communication cycle</th>\n",
       "    </tr>\n",
       "  </thead>\n",
       "  <tbody>\n",
       "    <tr>\n",
       "      <th>0</th>\n",
       "      <td>Einsum</td>\n",
       "      <td>([1, 512, 2048], [2048, 12, 128], [1, 512, 12,...</td>\n",
       "      <td>Compute</td>\n",
       "      <td>2.540592</td>\n",
       "      <td>323.368421</td>\n",
       "      <td>0.026189</td>\n",
       "      <td>24617.495477</td>\n",
       "      <td>1</td>\n",
       "      <td>3221.225472</td>\n",
       "      <td>2.0</td>\n",
       "      <td>6.0</td>\n",
       "      <td>1.5</td>\n",
       "      <td>9.5</td>\n",
       "      <td>123.0</td>\n",
       "      <td>0.026189</td>\n",
       "      <td>0.010308</td>\n",
       "      <td>0.0</td>\n",
       "      <td>24617.495477</td>\n",
       "      <td>9689.670139</td>\n",
       "      <td>0.0</td>\n",
       "    </tr>\n",
       "  </tbody>\n",
       "</table>\n",
       "</div>"
      ],
      "text/plain": [
       "  Op Type                                          Dimension    Bound  \\\n",
       "0  Einsum  ([1, 512, 2048], [2048, 12, 128], [1, 512, 12,...  Compute   \n",
       "\n",
       "  C/M ratio Op Intensity Latency (msec)        Cycles C Effcy Num ops (MFLOP)  \\\n",
       "0  2.540592   323.368421       0.026189  24617.495477       1     3221.225472   \n",
       "\n",
       "  Input_a (MB) Input_w (MB) Output (MB) Total Data (MB) Throughput (Tflops)  \\\n",
       "0          2.0          6.0         1.5             9.5               123.0   \n",
       "\n",
       "  Compute time (msec) Memory time (msec) Communication time (msec)  \\\n",
       "0            0.026189           0.010308                       0.0   \n",
       "\n",
       "  Compute cycle Memory cycle Communication cycle  \n",
       "0  24617.495477  9689.670139                 0.0  "
      ]
     },
     "execution_count": 10,
     "metadata": {},
     "output_type": "execute_result"
    }
   ],
   "source": [
    "get_model_df(model, system=System(), batch_size=1)"
   ]
  },
  {
   "cell_type": "code",
   "execution_count": null,
   "metadata": {},
   "outputs": [],
   "source": []
  }
 ],
 "metadata": {
  "kernelspec": {
   "display_name": "genz_test",
   "language": "python",
   "name": "python3"
  },
  "language_info": {
   "codemirror_mode": {
    "name": "ipython",
    "version": 3
   },
   "file_extension": ".py",
   "mimetype": "text/x-python",
   "name": "python",
   "nbconvert_exporter": "python",
   "pygments_lexer": "ipython3",
   "version": "3.11.9"
  }
 },
 "nbformat": 4,
 "nbformat_minor": 2
}
