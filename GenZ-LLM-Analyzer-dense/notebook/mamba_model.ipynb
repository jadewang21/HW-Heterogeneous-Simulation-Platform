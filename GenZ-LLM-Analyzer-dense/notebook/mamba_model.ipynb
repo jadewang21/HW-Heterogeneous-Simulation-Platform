{
 "cells": [
  {
   "cell_type": "code",
   "execution_count": 1,
   "metadata": {},
   "outputs": [],
   "source": [
    "from GenZ import decode_moddeling, prefill_moddeling\n",
    "\n",
    "from GenZ.system import System\n",
    "import pandas as pd\n",
    "from GenZ.analyse_model import get_model_df, get_summary_table\n",
    "\n",
    "from GenZ import create_inference_mamba_prefix_model, create_inference_mamba_decode_model"
   ]
  },
  {
   "cell_type": "code",
   "execution_count": 2,
   "metadata": {},
   "outputs": [],
   "source": [
    "# This will reload the imported modules (e.g. get_decode_model_characterstics) every time you execute the jupyter cells, so that you don't need to restart the notebook after updating the source codes.\n",
    "%load_ext autoreload\n",
    "%autoreload 2   "
   ]
  },
  {
   "cell_type": "code",
   "execution_count": 3,
   "metadata": {},
   "outputs": [],
   "source": [
    "system = System(frequency=1000 , flops=2000, off_chip_mem_size=(80*1024), compute_efficiency=0.8, memory_efficiency=0.8,\n",
    "                    offchip_mem_bw=3500, bits='int8', external_mem_bw=128, interchip_link_bw=256, interchip_link_latency=2)"
   ]
  },
  {
   "cell_type": "code",
   "execution_count": 9,
   "metadata": {},
   "outputs": [
    {
     "name": "stdout",
     "output_type": "stream",
     "text": [
      "LogL: 3\n"
     ]
    }
   ],
   "source": [
    "################################################################################################## #\n",
    "### Model Characterization Calculation\n",
    "################################################################################################## #\n",
    "model_prefill = create_inference_mamba_prefix_model(input_sequence_length=1000,output_gen_tokens = 0 ,\n",
    "                                    name='tiiuae/falcon-mamba-7b')\n",
    "\n",
    "B = 1\n",
    "model_df = get_model_df(model_prefill, system, batch_size=B,  model_characterstics = True)\n",
    "summary_table = get_summary_table(model_df, model_characterstics = True)\n"
   ]
  },
  {
   "cell_type": "code",
   "execution_count": 6,
   "metadata": {},
   "outputs": [],
   "source": [
    "from GenZ.Models.utils import parse_einsum_expression"
   ]
  },
  {
   "cell_type": "code",
   "execution_count": 7,
   "metadata": {},
   "outputs": [
    {
     "ename": "ValueError",
     "evalue": "Dimension mismatch for subscript: l, Got: 1000, Expected: 3",
     "output_type": "error",
     "traceback": [
      "\u001b[0;31m---------------------------------------------------------------------------\u001b[0m",
      "\u001b[0;31mValueError\u001b[0m                                Traceback (most recent call last)",
      "Cell \u001b[0;32mIn[7], line 5\u001b[0m\n\u001b[1;32m      3\u001b[0m F \u001b[38;5;241m=\u001b[39m \u001b[38;5;241m4096\u001b[39m\n\u001b[1;32m      4\u001b[0m logL\u001b[38;5;241m=\u001b[39m \u001b[38;5;241m3\u001b[39m\n\u001b[0;32m----> 5\u001b[0m \u001b[43mparse_einsum_expression\u001b[49m\u001b[43m(\u001b[49m\u001b[38;5;124;43m'\u001b[39;49m\u001b[38;5;124;43mlbfs,lbs->lbf\u001b[39;49m\u001b[38;5;124;43m'\u001b[39;49m\u001b[43m,\u001b[49m\u001b[43m \u001b[49m\u001b[43m(\u001b[49m\u001b[43mlogL\u001b[49m\u001b[43m,\u001b[49m\u001b[38;5;124;43m'\u001b[39;49m\u001b[38;5;124;43mb\u001b[39;49m\u001b[38;5;124;43m'\u001b[39;49m\u001b[43m,\u001b[49m\u001b[43mF\u001b[49m\u001b[43m,\u001b[49m\u001b[43mS\u001b[49m\u001b[43m)\u001b[49m\u001b[43m,\u001b[49m\u001b[43m \u001b[49m\u001b[43m(\u001b[49m\u001b[43mL\u001b[49m\u001b[43m,\u001b[49m\u001b[38;5;124;43m'\u001b[39;49m\u001b[38;5;124;43mb\u001b[39;49m\u001b[38;5;124;43m'\u001b[39;49m\u001b[43m,\u001b[49m\u001b[43mS\u001b[49m\u001b[43m)\u001b[49m\u001b[43m,\u001b[49m\u001b[43m \u001b[49m\u001b[43m(\u001b[49m\u001b[43mlogL\u001b[49m\u001b[43m,\u001b[49m\u001b[38;5;124;43m'\u001b[39;49m\u001b[38;5;124;43mb\u001b[39;49m\u001b[38;5;124;43m'\u001b[39;49m\u001b[43m,\u001b[49m\u001b[43mF\u001b[49m\u001b[43m)\u001b[49m\u001b[43m)\u001b[49m\n",
      "File \u001b[0;32m/scratch/abhimanyu/work/GenZ-LLM-Analyzer/GenZ/Models/utils.py:67\u001b[0m, in \u001b[0;36mparse_einsum_expression\u001b[0;34m(expression, *tensors)\u001b[0m\n\u001b[1;32m     65\u001b[0m             einsum_vars[subscript] \u001b[38;5;241m=\u001b[39m dim\n\u001b[1;32m     66\u001b[0m         \u001b[38;5;28;01melif\u001b[39;00m einsum_vars[subscript] \u001b[38;5;241m!=\u001b[39m dim:\n\u001b[0;32m---> 67\u001b[0m             \u001b[38;5;28;01mraise\u001b[39;00m \u001b[38;5;167;01mValueError\u001b[39;00m(\u001b[38;5;124mf\u001b[39m\u001b[38;5;124m\"\u001b[39m\u001b[38;5;124mDimension mismatch for subscript: \u001b[39m\u001b[38;5;132;01m{\u001b[39;00msubscript\u001b[38;5;132;01m}\u001b[39;00m\u001b[38;5;124m, Got: \u001b[39m\u001b[38;5;132;01m{\u001b[39;00mdim\u001b[38;5;132;01m}\u001b[39;00m\u001b[38;5;124m, Expected: \u001b[39m\u001b[38;5;132;01m{\u001b[39;00meinsum_vars[subscript]\u001b[38;5;132;01m}\u001b[39;00m\u001b[38;5;124m\"\u001b[39m)\n\u001b[1;32m     69\u001b[0m \u001b[38;5;28;01mfor\u001b[39;00m subscript \u001b[38;5;129;01min\u001b[39;00m output_subscript:\n\u001b[1;32m     70\u001b[0m     \u001b[38;5;28;01mif\u001b[39;00m subscript \u001b[38;5;129;01mnot\u001b[39;00m \u001b[38;5;129;01min\u001b[39;00m einsum_vars:\n",
      "\u001b[0;31mValueError\u001b[0m: Dimension mismatch for subscript: l, Got: 1000, Expected: 3"
     ]
    }
   ],
   "source": [
    "L = 1000\n",
    "S = 16\n",
    "F = 4096\n",
    "logL= 3\n",
    "parse_einsum_expression('lbfs,lbs->lbf', (logL,'b',F,S), (L,'b',S), (logL,'b',F))"
   ]
  },
  {
   "cell_type": "code",
   "execution_count": null,
   "metadata": {},
   "outputs": [],
   "source": [
    "display(model_df)\n",
    "display(summary_table)"
   ]
  },
  {
   "cell_type": "code",
   "execution_count": null,
   "metadata": {},
   "outputs": [],
   "source": [
    "import matplotlib.pyplot as plt\n",
    "\n",
    "# Initialize a dictionary to store Op Intensity for each Op Type\n",
    "op_intensity_data = {op_idx: [] for op_idx in range(len(model_df))}\n",
    "\n",
    "# Vary B from 1 to 128\n",
    "batch_sizes = [1,2,3,4,8,16,32,64,128]\n",
    "for B in batch_sizes:\n",
    "    model_df = get_model_df(model_prefill, system, batch_size=B, model_characterstics=True)\n",
    "    for op_idx in range(len(model_df)):\n",
    "        subset = model_df.loc[op_idx]\n",
    "        op_intensity_data[op_idx].append(subset['Op Intensity'])\n",
    "\n",
    "# Plotting\n",
    "plt.figure(figsize=(10, 6))\n",
    "for op_type, intensities in op_intensity_data.items():\n",
    "    plt.plot(batch_sizes, intensities, marker='o', linestyle='-', label=op_type)\n",
    "\n",
    "plt.xlabel('Batch Size (B)')\n",
    "plt.ylabel('Op Intensity')\n",
    "plt.title('Op Intensity of Each Op Type as a Function of B')\n",
    "plt.legend()\n",
    "plt.grid(True)\n",
    "plt.show()"
   ]
  },
  {
   "cell_type": "code",
   "execution_count": null,
   "metadata": {},
   "outputs": [],
   "source": [
    "################################################################################################## #\n",
    "### Model Characterization Calculation\n",
    "################################################################################################## #\n",
    "model_decode = create_inference_mamba_decode_model(input_sequence_length=10000,output_gen_tokens = 0 ,\n",
    "                                    name='tiiuae/falcon-mamba-7b')\n",
    "\n",
    "B = 1\n",
    "model_df = get_model_df(model_decode, system, batch_size=B,  model_characterstics = True)\n",
    "summary_table = get_summary_table(model_df, model_characterstics = True)\n"
   ]
  },
  {
   "cell_type": "code",
   "execution_count": null,
   "metadata": {},
   "outputs": [],
   "source": [
    "display(model_df)\n",
    "display(summary_table)"
   ]
  },
  {
   "cell_type": "code",
   "execution_count": null,
   "metadata": {},
   "outputs": [],
   "source": [
    "import matplotlib.pyplot as plt\n",
    "\n",
    "# Initialize a dictionary to store Op Intensity for each Op Type\n",
    "op_intensity_data = {op_idx: [] for op_idx in range(len(model_df))}\n",
    "\n",
    "# Vary B from 1 to 128\n",
    "batch_sizes = [1,2,3,4,8,16,32,64,128]\n",
    "for B in batch_sizes:\n",
    "    model_df = get_model_df(model_decode, system, batch_size=B, model_characterstics=True)\n",
    "    for op_idx in range(len(model_df)):\n",
    "        subset = model_df.loc[op_idx]\n",
    "        op_intensity_data[op_idx].append(subset['Op Intensity'])\n",
    "\n",
    "# Plotting\n",
    "plt.figure(figsize=(10, 6))\n",
    "for op_type, intensities in op_intensity_data.items():\n",
    "    plt.plot(batch_sizes, intensities, marker='o', linestyle='-', label=op_type)\n",
    "\n",
    "plt.xlabel('Batch Size (B)')\n",
    "plt.ylabel('Op Intensity')\n",
    "plt.title('Op Intensity of Each Op Type as a Function of B')\n",
    "plt.legend()\n",
    "plt.grid(True)\n",
    "plt.show()"
   ]
  },
  {
   "cell_type": "code",
   "execution_count": null,
   "metadata": {},
   "outputs": [],
   "source": [
    "model_df"
   ]
  },
  {
   "cell_type": "code",
   "execution_count": null,
   "metadata": {},
   "outputs": [],
   "source": []
  }
 ],
 "metadata": {
  "kernelspec": {
   "display_name": "genz_env",
   "language": "python",
   "name": "python3"
  },
  "language_info": {
   "codemirror_mode": {
    "name": "ipython",
    "version": 3
   },
   "file_extension": ".py",
   "mimetype": "text/x-python",
   "name": "python",
   "nbconvert_exporter": "python",
   "pygments_lexer": "ipython3",
   "version": "3.11.10"
  }
 },
 "nbformat": 4,
 "nbformat_minor": 2
}
