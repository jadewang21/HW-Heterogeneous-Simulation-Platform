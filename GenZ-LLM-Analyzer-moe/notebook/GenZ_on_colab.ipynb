{
  "cells": [
    {
      "cell_type": "markdown",
      "metadata": {},
      "source": [
        "[![Open In Colab](https://colab.research.google.com/assets/colab-badge.svg)](https://colab.research.google.com/github/abhibambhaniya/GenZ-LLM-Analyzer/blob/main/notebook/GenZ_on_colab.ipynb)"
      ]
    },
    {
      "cell_type": "code",
      "execution_count": null,
      "metadata": {
        "id": "vrXEZv1yy1tB"
      },
      "outputs": [],
      "source": [
        "## Run only once\n",
        "!git clone https://github.com/abhibambhaniya/GenZ-LLM-Analyzer.git\n",
        "!pip install seaborn\n",
        "!pip install plotnine\n",
        "!pip install tqdm\n",
        "!pip install plotly\n",
        "!pip install paretoset"
      ]
    },
    {
      "cell_type": "code",
      "execution_count": 2,
      "metadata": {
        "id": "pSnAlEVOzK7P"
      },
      "outputs": [],
      "source": [
        "# Import necessary libraries\n",
        "\n",
        "import os, sys, warnings\n",
        "script_dir = os.getcwd()\n",
        "module_path = script_dir\n",
        "sys.path.insert(0, '/content/GenZ-LLM-Analyzer')\n",
        "\n",
        "from GenZ import decode_moddeling, prefill_moddeling\n",
        "from Systems.system_configs import *\n",
        "import pandas as pd\n",
        "from plotnine import *\n",
        "import plotnine as p9\n",
        "from tqdm import tqdm\n",
        "import numpy as np\n",
        "import matplotlib.pyplot as plt\n",
        "%matplotlib inline\n",
        "import plotly.graph_objects as go\n",
        "import plotly.express as px\n",
        "from plotnine import *\n",
        "import plotnine as p9\n"
      ]
    },
    {
      "cell_type": "code",
      "execution_count": 3,
      "metadata": {
        "colab": {
          "base_uri": "https://localhost:8080/",
          "height": 861
        },
        "id": "d8ZeO2IR466E",
        "outputId": "cab3eaf7-125e-44df-e2e6-85d75999deb2"
      },
      "outputs": [
        {
          "name": "stderr",
          "output_type": "stream",
          "text": [
            "100%|██████████| 4/4 [00:00<00:00, 23.85it/s]\n",
            "100%|██████████| 4/4 [00:00<00:00, 30.94it/s]\n"
          ]
        },
        {
          "data": {
            "text/html": [
              "<div>\n",
              "<style scoped>\n",
              "    .dataframe tbody tr th:only-of-type {\n",
              "        vertical-align: middle;\n",
              "    }\n",
              "\n",
              "    .dataframe tbody tr th {\n",
              "        vertical-align: top;\n",
              "    }\n",
              "\n",
              "    .dataframe thead th {\n",
              "        text-align: right;\n",
              "    }\n",
              "</style>\n",
              "<table border=\"1\" class=\"dataframe\">\n",
              "  <thead>\n",
              "    <tr style=\"text-align: right;\">\n",
              "      <th></th>\n",
              "      <th>Model</th>\n",
              "      <th>TP</th>\n",
              "      <th>PP</th>\n",
              "      <th>Batch</th>\n",
              "      <th>Input Size</th>\n",
              "      <th>TTFT(sec)</th>\n",
              "      <th>TPOT(sec)</th>\n",
              "      <th>Latency(sec)</th>\n",
              "      <th>Decode Tokens/s</th>\n",
              "      <th>Prefill GEMM Time(ms)</th>\n",
              "      <th>Prefill Attn Time(ms)</th>\n",
              "      <th>Prefill Communication Time(ms)</th>\n",
              "      <th>Decode GEMM Time(ms)</th>\n",
              "      <th>Decode Attn Time(ms)</th>\n",
              "      <th>Decode Communication Time(ms)</th>\n",
              "    </tr>\n",
              "  </thead>\n",
              "  <tbody>\n",
              "    <tr>\n",
              "      <th>0</th>\n",
              "      <td>llama2_7b</td>\n",
              "      <td>1</td>\n",
              "      <td>1</td>\n",
              "      <td>1</td>\n",
              "      <td>100</td>\n",
              "      <td>0.003701</td>\n",
              "      <td>0.003571</td>\n",
              "      <td>0.360782</td>\n",
              "      <td>280.048635</td>\n",
              "      <td>3.670313</td>\n",
              "      <td>0.030842</td>\n",
              "      <td>0.000000</td>\n",
              "      <td>3.549019</td>\n",
              "      <td>0.029052</td>\n",
              "      <td>0.000000</td>\n",
              "    </tr>\n",
              "    <tr>\n",
              "      <th>1</th>\n",
              "      <td>llama2_7b</td>\n",
              "      <td>1</td>\n",
              "      <td>1</td>\n",
              "      <td>1</td>\n",
              "      <td>250</td>\n",
              "      <td>0.003939</td>\n",
              "      <td>0.003592</td>\n",
              "      <td>0.363177</td>\n",
              "      <td>278.366837</td>\n",
              "      <td>3.854092</td>\n",
              "      <td>0.085052</td>\n",
              "      <td>0.000000</td>\n",
              "      <td>3.549019</td>\n",
              "      <td>0.050626</td>\n",
              "      <td>0.000000</td>\n",
              "    </tr>\n",
              "    <tr>\n",
              "      <th>2</th>\n",
              "      <td>llama2_7b</td>\n",
              "      <td>1</td>\n",
              "      <td>1</td>\n",
              "      <td>1</td>\n",
              "      <td>500</td>\n",
              "      <td>0.006745</td>\n",
              "      <td>0.003628</td>\n",
              "      <td>0.369578</td>\n",
              "      <td>275.608284</td>\n",
              "      <td>6.548034</td>\n",
              "      <td>0.196594</td>\n",
              "      <td>0.000000</td>\n",
              "      <td>3.549019</td>\n",
              "      <td>0.086582</td>\n",
              "      <td>0.000000</td>\n",
              "    </tr>\n",
              "    <tr>\n",
              "      <th>3</th>\n",
              "      <td>llama2_7b</td>\n",
              "      <td>1</td>\n",
              "      <td>1</td>\n",
              "      <td>2</td>\n",
              "      <td>100</td>\n",
              "      <td>0.003855</td>\n",
              "      <td>0.003594</td>\n",
              "      <td>0.363237</td>\n",
              "      <td>556.510504</td>\n",
              "      <td>3.792832</td>\n",
              "      <td>0.061683</td>\n",
              "      <td>0.000000</td>\n",
              "      <td>3.550244</td>\n",
              "      <td>0.058104</td>\n",
              "      <td>0.000000</td>\n",
              "    </tr>\n",
              "    <tr>\n",
              "      <th>4</th>\n",
              "      <td>llama2_7b</td>\n",
              "      <td>1</td>\n",
              "      <td>1</td>\n",
              "      <td>2</td>\n",
              "      <td>250</td>\n",
              "      <td>0.006718</td>\n",
              "      <td>0.003637</td>\n",
              "      <td>0.370415</td>\n",
              "      <td>549.908337</td>\n",
              "      <td>6.548034</td>\n",
              "      <td>0.170103</td>\n",
              "      <td>0.000000</td>\n",
              "      <td>3.550244</td>\n",
              "      <td>0.101251</td>\n",
              "      <td>0.000000</td>\n",
              "    </tr>\n",
              "    <tr>\n",
              "      <th>5</th>\n",
              "      <td>llama2_7b</td>\n",
              "      <td>1</td>\n",
              "      <td>1</td>\n",
              "      <td>2</td>\n",
              "      <td>500</td>\n",
              "      <td>0.013489</td>\n",
              "      <td>0.003709</td>\n",
              "      <td>0.384377</td>\n",
              "      <td>539.246087</td>\n",
              "      <td>13.096067</td>\n",
              "      <td>0.393188</td>\n",
              "      <td>0.000000</td>\n",
              "      <td>3.550244</td>\n",
              "      <td>0.173163</td>\n",
              "      <td>0.000000</td>\n",
              "    </tr>\n",
              "    <tr>\n",
              "      <th>6</th>\n",
              "      <td>llama2_7b</td>\n",
              "      <td>1</td>\n",
              "      <td>1</td>\n",
              "      <td>4</td>\n",
              "      <td>100</td>\n",
              "      <td>0.005362</td>\n",
              "      <td>0.003640</td>\n",
              "      <td>0.369347</td>\n",
              "      <td>1098.946086</td>\n",
              "      <td>5.238427</td>\n",
              "      <td>0.123367</td>\n",
              "      <td>0.000000</td>\n",
              "      <td>3.552695</td>\n",
              "      <td>0.116208</td>\n",
              "      <td>0.000000</td>\n",
              "    </tr>\n",
              "    <tr>\n",
              "      <th>7</th>\n",
              "      <td>llama2_7b</td>\n",
              "      <td>1</td>\n",
              "      <td>1</td>\n",
              "      <td>4</td>\n",
              "      <td>250</td>\n",
              "      <td>0.013436</td>\n",
              "      <td>0.003726</td>\n",
              "      <td>0.386051</td>\n",
              "      <td>1073.495407</td>\n",
              "      <td>13.096067</td>\n",
              "      <td>0.340206</td>\n",
              "      <td>0.000000</td>\n",
              "      <td>3.552695</td>\n",
              "      <td>0.202503</td>\n",
              "      <td>0.000000</td>\n",
              "    </tr>\n",
              "    <tr>\n",
              "      <th>8</th>\n",
              "      <td>llama2_7b</td>\n",
              "      <td>1</td>\n",
              "      <td>1</td>\n",
              "      <td>4</td>\n",
              "      <td>500</td>\n",
              "      <td>0.026979</td>\n",
              "      <td>0.003870</td>\n",
              "      <td>0.413975</td>\n",
              "      <td>1033.599881</td>\n",
              "      <td>26.192135</td>\n",
              "      <td>0.786376</td>\n",
              "      <td>0.000000</td>\n",
              "      <td>3.552695</td>\n",
              "      <td>0.346327</td>\n",
              "      <td>0.000000</td>\n",
              "    </tr>\n",
              "    <tr>\n",
              "      <th>9</th>\n",
              "      <td>llama2_7b</td>\n",
              "      <td>1</td>\n",
              "      <td>1</td>\n",
              "      <td>8</td>\n",
              "      <td>100</td>\n",
              "      <td>0.010724</td>\n",
              "      <td>0.003732</td>\n",
              "      <td>0.383914</td>\n",
              "      <td>2143.675646</td>\n",
              "      <td>10.476854</td>\n",
              "      <td>0.246734</td>\n",
              "      <td>0.000000</td>\n",
              "      <td>3.557596</td>\n",
              "      <td>0.232416</td>\n",
              "      <td>0.000000</td>\n",
              "    </tr>\n",
              "    <tr>\n",
              "      <th>10</th>\n",
              "      <td>llama2_7b</td>\n",
              "      <td>1</td>\n",
              "      <td>1</td>\n",
              "      <td>8</td>\n",
              "      <td>250</td>\n",
              "      <td>0.026873</td>\n",
              "      <td>0.003904</td>\n",
              "      <td>0.417322</td>\n",
              "      <td>2048.919628</td>\n",
              "      <td>26.192135</td>\n",
              "      <td>0.680412</td>\n",
              "      <td>0.000000</td>\n",
              "      <td>3.557596</td>\n",
              "      <td>0.405005</td>\n",
              "      <td>0.000000</td>\n",
              "    </tr>\n",
              "    <tr>\n",
              "      <th>11</th>\n",
              "      <td>llama2_7b</td>\n",
              "      <td>1</td>\n",
              "      <td>1</td>\n",
              "      <td>8</td>\n",
              "      <td>500</td>\n",
              "      <td>0.053957</td>\n",
              "      <td>0.004192</td>\n",
              "      <td>0.473172</td>\n",
              "      <td>1908.331004</td>\n",
              "      <td>52.384270</td>\n",
              "      <td>1.572752</td>\n",
              "      <td>0.000000</td>\n",
              "      <td>3.557596</td>\n",
              "      <td>0.692653</td>\n",
              "      <td>0.000000</td>\n",
              "    </tr>\n",
              "    <tr>\n",
              "      <th>12</th>\n",
              "      <td>llama_70b</td>\n",
              "      <td>2</td>\n",
              "      <td>1</td>\n",
              "      <td>1</td>\n",
              "      <td>100</td>\n",
              "      <td>0.021187</td>\n",
              "      <td>0.020207</td>\n",
              "      <td>2.041873</td>\n",
              "      <td>49.488146</td>\n",
              "      <td>19.158397</td>\n",
              "      <td>0.045689</td>\n",
              "      <td>1.982535</td>\n",
              "      <td>18.754084</td>\n",
              "      <td>0.009800</td>\n",
              "      <td>1.445425</td>\n",
              "    </tr>\n",
              "    <tr>\n",
              "      <th>13</th>\n",
              "      <td>llama_70b</td>\n",
              "      <td>2</td>\n",
              "      <td>1</td>\n",
              "      <td>1</td>\n",
              "      <td>250</td>\n",
              "      <td>0.022701</td>\n",
              "      <td>0.020214</td>\n",
              "      <td>2.044068</td>\n",
              "      <td>49.471470</td>\n",
              "      <td>19.770993</td>\n",
              "      <td>0.134091</td>\n",
              "      <td>2.796337</td>\n",
              "      <td>18.754084</td>\n",
              "      <td>0.016611</td>\n",
              "      <td>1.445425</td>\n",
              "    </tr>\n",
              "    <tr>\n",
              "      <th>14</th>\n",
              "      <td>llama_70b</td>\n",
              "      <td>2</td>\n",
              "      <td>1</td>\n",
              "      <td>1</td>\n",
              "      <td>500</td>\n",
              "      <td>0.039093</td>\n",
              "      <td>0.020225</td>\n",
              "      <td>2.061596</td>\n",
              "      <td>49.443702</td>\n",
              "      <td>34.606189</td>\n",
              "      <td>0.334409</td>\n",
              "      <td>4.152674</td>\n",
              "      <td>18.754084</td>\n",
              "      <td>0.027963</td>\n",
              "      <td>1.445425</td>\n",
              "    </tr>\n",
              "    <tr>\n",
              "      <th>15</th>\n",
              "      <td>llama_70b</td>\n",
              "      <td>2</td>\n",
              "      <td>1</td>\n",
              "      <td>2</td>\n",
              "      <td>100</td>\n",
              "      <td>0.022183</td>\n",
              "      <td>0.020224</td>\n",
              "      <td>2.044555</td>\n",
              "      <td>98.893783</td>\n",
              "      <td>19.566794</td>\n",
              "      <td>0.091378</td>\n",
              "      <td>2.525069</td>\n",
              "      <td>18.758168</td>\n",
              "      <td>0.019600</td>\n",
              "      <td>1.450851</td>\n",
              "    </tr>\n",
              "    <tr>\n",
              "      <th>16</th>\n",
              "      <td>llama_70b</td>\n",
              "      <td>2</td>\n",
              "      <td>1</td>\n",
              "      <td>2</td>\n",
              "      <td>250</td>\n",
              "      <td>0.039027</td>\n",
              "      <td>0.020237</td>\n",
              "      <td>2.062761</td>\n",
              "      <td>98.827213</td>\n",
              "      <td>34.606189</td>\n",
              "      <td>0.268182</td>\n",
              "      <td>4.152674</td>\n",
              "      <td>18.758168</td>\n",
              "      <td>0.033222</td>\n",
              "      <td>1.450851</td>\n",
              "    </tr>\n",
              "    <tr>\n",
              "      <th>17</th>\n",
              "      <td>llama_70b</td>\n",
              "      <td>2</td>\n",
              "      <td>1</td>\n",
              "      <td>2</td>\n",
              "      <td>500</td>\n",
              "      <td>0.076747</td>\n",
              "      <td>0.020260</td>\n",
              "      <td>2.102751</td>\n",
              "      <td>98.716463</td>\n",
              "      <td>69.212377</td>\n",
              "      <td>0.668819</td>\n",
              "      <td>6.865347</td>\n",
              "      <td>18.758168</td>\n",
              "      <td>0.055926</td>\n",
              "      <td>1.450851</td>\n",
              "    </tr>\n",
              "    <tr>\n",
              "      <th>18</th>\n",
              "      <td>llama_70b</td>\n",
              "      <td>2</td>\n",
              "      <td>1</td>\n",
              "      <td>4</td>\n",
              "      <td>100</td>\n",
              "      <td>0.031478</td>\n",
              "      <td>0.020257</td>\n",
              "      <td>2.057222</td>\n",
              "      <td>197.458350</td>\n",
              "      <td>27.684951</td>\n",
              "      <td>0.182756</td>\n",
              "      <td>3.610139</td>\n",
              "      <td>18.766336</td>\n",
              "      <td>0.039199</td>\n",
              "      <td>1.461701</td>\n",
              "    </tr>\n",
              "    <tr>\n",
              "      <th>19</th>\n",
              "      <td>llama_70b</td>\n",
              "      <td>2</td>\n",
              "      <td>1</td>\n",
              "      <td>4</td>\n",
              "      <td>250</td>\n",
              "      <td>0.076614</td>\n",
              "      <td>0.020285</td>\n",
              "      <td>2.105082</td>\n",
              "      <td>197.193135</td>\n",
              "      <td>69.212377</td>\n",
              "      <td>0.536364</td>\n",
              "      <td>6.865347</td>\n",
              "      <td>18.766336</td>\n",
              "      <td>0.066444</td>\n",
              "      <td>1.461701</td>\n",
              "    </tr>\n",
              "    <tr>\n",
              "      <th>20</th>\n",
              "      <td>llama_70b</td>\n",
              "      <td>2</td>\n",
              "      <td>1</td>\n",
              "      <td>4</td>\n",
              "      <td>500</td>\n",
              "      <td>0.152053</td>\n",
              "      <td>0.020330</td>\n",
              "      <td>2.185062</td>\n",
              "      <td>196.752691</td>\n",
              "      <td>138.424755</td>\n",
              "      <td>1.337637</td>\n",
              "      <td>12.290694</td>\n",
              "      <td>18.766336</td>\n",
              "      <td>0.111853</td>\n",
              "      <td>1.461701</td>\n",
              "    </tr>\n",
              "    <tr>\n",
              "      <th>21</th>\n",
              "      <td>llama_70b</td>\n",
              "      <td>2</td>\n",
              "      <td>1</td>\n",
              "      <td>8</td>\n",
              "      <td>100</td>\n",
              "      <td>0.061516</td>\n",
              "      <td>0.020325</td>\n",
              "      <td>2.094003</td>\n",
              "      <td>393.606391</td>\n",
              "      <td>55.369902</td>\n",
              "      <td>0.365513</td>\n",
              "      <td>5.780278</td>\n",
              "      <td>18.782672</td>\n",
              "      <td>0.078398</td>\n",
              "      <td>1.483403</td>\n",
              "    </tr>\n",
              "    <tr>\n",
              "      <th>22</th>\n",
              "      <td>llama_70b</td>\n",
              "      <td>2</td>\n",
              "      <td>1</td>\n",
              "      <td>8</td>\n",
              "      <td>250</td>\n",
              "      <td>0.151788</td>\n",
              "      <td>0.020379</td>\n",
              "      <td>2.189725</td>\n",
              "      <td>392.553966</td>\n",
              "      <td>138.424755</td>\n",
              "      <td>1.072728</td>\n",
              "      <td>12.290694</td>\n",
              "      <td>18.782672</td>\n",
              "      <td>0.132889</td>\n",
              "      <td>1.483403</td>\n",
              "    </tr>\n",
              "    <tr>\n",
              "      <th>23</th>\n",
              "      <td>llama_70b</td>\n",
              "      <td>2</td>\n",
              "      <td>1</td>\n",
              "      <td>8</td>\n",
              "      <td>500</td>\n",
              "      <td>0.302666</td>\n",
              "      <td>0.020470</td>\n",
              "      <td>2.349684</td>\n",
              "      <td>390.812376</td>\n",
              "      <td>276.849510</td>\n",
              "      <td>2.675275</td>\n",
              "      <td>23.141389</td>\n",
              "      <td>18.782672</td>\n",
              "      <td>0.223706</td>\n",
              "      <td>1.483403</td>\n",
              "    </tr>\n",
              "  </tbody>\n",
              "</table>\n",
              "</div>"
            ],
            "text/plain": [
              "        Model  TP  PP  Batch  Input Size  TTFT(sec)  TPOT(sec)  Latency(sec)  \\\n",
              "0    llama2_7b   1   1      1         100   0.003701   0.003571      0.360782   \n",
              "1    llama2_7b   1   1      1         250   0.003939   0.003592      0.363177   \n",
              "2    llama2_7b   1   1      1         500   0.006745   0.003628      0.369578   \n",
              "3    llama2_7b   1   1      2         100   0.003855   0.003594      0.363237   \n",
              "4    llama2_7b   1   1      2         250   0.006718   0.003637      0.370415   \n",
              "5    llama2_7b   1   1      2         500   0.013489   0.003709      0.384377   \n",
              "6    llama2_7b   1   1      4         100   0.005362   0.003640      0.369347   \n",
              "7    llama2_7b   1   1      4         250   0.013436   0.003726      0.386051   \n",
              "8    llama2_7b   1   1      4         500   0.026979   0.003870      0.413975   \n",
              "9    llama2_7b   1   1      8         100   0.010724   0.003732      0.383914   \n",
              "10   llama2_7b   1   1      8         250   0.026873   0.003904      0.417322   \n",
              "11   llama2_7b   1   1      8         500   0.053957   0.004192      0.473172   \n",
              "12  llama_70b   2   1      1         100   0.021187   0.020207      2.041873   \n",
              "13  llama_70b   2   1      1         250   0.022701   0.020214      2.044068   \n",
              "14  llama_70b   2   1      1         500   0.039093   0.020225      2.061596   \n",
              "15  llama_70b   2   1      2         100   0.022183   0.020224      2.044555   \n",
              "16  llama_70b   2   1      2         250   0.039027   0.020237      2.062761   \n",
              "17  llama_70b   2   1      2         500   0.076747   0.020260      2.102751   \n",
              "18  llama_70b   2   1      4         100   0.031478   0.020257      2.057222   \n",
              "19  llama_70b   2   1      4         250   0.076614   0.020285      2.105082   \n",
              "20  llama_70b   2   1      4         500   0.152053   0.020330      2.185062   \n",
              "21  llama_70b   2   1      8         100   0.061516   0.020325      2.094003   \n",
              "22  llama_70b   2   1      8         250   0.151788   0.020379      2.189725   \n",
              "23  llama_70b   2   1      8         500   0.302666   0.020470      2.349684   \n",
              "\n",
              "    Decode Tokens/s  Prefill GEMM Time(ms)  Prefill Attn Time(ms)  \\\n",
              "0        280.048635               3.670313               0.030842   \n",
              "1        278.366837               3.854092               0.085052   \n",
              "2        275.608284               6.548034               0.196594   \n",
              "3        556.510504               3.792832               0.061683   \n",
              "4        549.908337               6.548034               0.170103   \n",
              "5        539.246087              13.096067               0.393188   \n",
              "6       1098.946086               5.238427               0.123367   \n",
              "7       1073.495407              13.096067               0.340206   \n",
              "8       1033.599881              26.192135               0.786376   \n",
              "9       2143.675646              10.476854               0.246734   \n",
              "10      2048.919628              26.192135               0.680412   \n",
              "11      1908.331004              52.384270               1.572752   \n",
              "12        49.488146              19.158397               0.045689   \n",
              "13        49.471470              19.770993               0.134091   \n",
              "14        49.443702              34.606189               0.334409   \n",
              "15        98.893783              19.566794               0.091378   \n",
              "16        98.827213              34.606189               0.268182   \n",
              "17        98.716463              69.212377               0.668819   \n",
              "18       197.458350              27.684951               0.182756   \n",
              "19       197.193135              69.212377               0.536364   \n",
              "20       196.752691             138.424755               1.337637   \n",
              "21       393.606391              55.369902               0.365513   \n",
              "22       392.553966             138.424755               1.072728   \n",
              "23       390.812376             276.849510               2.675275   \n",
              "\n",
              "    Prefill Communication Time(ms)  Decode GEMM Time(ms)  \\\n",
              "0                         0.000000              3.549019   \n",
              "1                         0.000000              3.549019   \n",
              "2                         0.000000              3.549019   \n",
              "3                         0.000000              3.550244   \n",
              "4                         0.000000              3.550244   \n",
              "5                         0.000000              3.550244   \n",
              "6                         0.000000              3.552695   \n",
              "7                         0.000000              3.552695   \n",
              "8                         0.000000              3.552695   \n",
              "9                         0.000000              3.557596   \n",
              "10                        0.000000              3.557596   \n",
              "11                        0.000000              3.557596   \n",
              "12                        1.982535             18.754084   \n",
              "13                        2.796337             18.754084   \n",
              "14                        4.152674             18.754084   \n",
              "15                        2.525069             18.758168   \n",
              "16                        4.152674             18.758168   \n",
              "17                        6.865347             18.758168   \n",
              "18                        3.610139             18.766336   \n",
              "19                        6.865347             18.766336   \n",
              "20                       12.290694             18.766336   \n",
              "21                        5.780278             18.782672   \n",
              "22                       12.290694             18.782672   \n",
              "23                       23.141389             18.782672   \n",
              "\n",
              "    Decode Attn Time(ms)  Decode Communication Time(ms)  \n",
              "0               0.029052                       0.000000  \n",
              "1               0.050626                       0.000000  \n",
              "2               0.086582                       0.000000  \n",
              "3               0.058104                       0.000000  \n",
              "4               0.101251                       0.000000  \n",
              "5               0.173163                       0.000000  \n",
              "6               0.116208                       0.000000  \n",
              "7               0.202503                       0.000000  \n",
              "8               0.346327                       0.000000  \n",
              "9               0.232416                       0.000000  \n",
              "10              0.405005                       0.000000  \n",
              "11              0.692653                       0.000000  \n",
              "12              0.009800                       1.445425  \n",
              "13              0.016611                       1.445425  \n",
              "14              0.027963                       1.445425  \n",
              "15              0.019600                       1.450851  \n",
              "16              0.033222                       1.450851  \n",
              "17              0.055926                       1.450851  \n",
              "18              0.039199                       1.461701  \n",
              "19              0.066444                       1.461701  \n",
              "20              0.111853                       1.461701  \n",
              "21              0.078398                       1.483403  \n",
              "22              0.132889                       1.483403  \n",
              "23              0.223706                       1.483403  "
            ]
          },
          "execution_count": 3,
          "metadata": {},
          "output_type": "execute_result"
        }
      ],
      "source": [
        "batch_size_list = [1, 2, 4, 8]\n",
        "input_token_list = [100, 250, 500]\n",
        "model_box = ['llama2_7b', 'llama_70b']\n",
        "\n",
        "data = []\n",
        "for model in model_box:\n",
        "  for batch_size in tqdm(batch_size_list):\n",
        "    for input_token in input_token_list:\n",
        "                if model == 'llama2_7b':\n",
        "                    tp, pp = 1, 1\n",
        "                elif model == 'llama_70b':\n",
        "                    tp, pp = 2, 1\n",
        "                prefill_outputs = prefill_moddeling(model = model, batch_size = batch_size,\n",
        "                                        input_tokens = input_token,\n",
        "                                        system_name = H100_GPU, system_eff = 1,\n",
        "                                        bits='bf16',\n",
        "                                        tensor_parallel = tp, pipeline_parallel = pp,  debug=False)\n",
        "                TTFT = prefill_outputs['Latency'] / 1000  ## Secs\n",
        "                decode_outputs = decode_moddeling(model = model, batch_size = batch_size, Bb = 1 ,\n",
        "                                        input_tokens = input_token, output_tokens = 100,\n",
        "                                        system_name = H100_GPU, system_eff=1,\n",
        "                                        bits='bf16',\n",
        "                                        tensor_parallel = tp, pipeline_parallel = pp, debug=False)\n",
        "                TPOT = decode_outputs['Latency'] / 1000  ## Secs\n",
        "                Latency = TTFT + TPOT*100\n",
        "                data.append([model, tp, pp ,batch_size, input_token, TTFT, TPOT, Latency, decode_outputs['Throughput']])\n",
        "\n",
        "assert len(data) > 0, \"No Model fits in the given # of GPUs. Increase GPUs or use different Model\"\n",
        "data_df = pd.DataFrame(data, columns = ['Model','TP', 'PP', 'Batch', 'Input Size', 'TTFT(sec)', 'TPOT(sec)', 'Latency(sec)', 'Decode Tokens/s'])\n",
        "data_df"
      ]
    },
    {
      "cell_type": "code",
      "execution_count": 1,
      "metadata": {
        "id": "VPzCukdB7ynf"
      },
      "outputs": [
        {
          "data": {
            "application/vnd.plotly.v1+json": {
              "config": {
                "plotlyServerURL": "https://plot.ly"
              },
              "data": [
                {
                  "hovertemplate": "Model=meta-llama/Llama-2-7B<br>Stage=Prefill<br>Batch=%{x}<br>Tokens/s=%{y}<extra></extra>",
                  "legendgroup": "meta-llama/Llama-2-7B",
                  "line": {
                    "color": "#636efa",
                    "dash": "solid"
                  },
                  "marker": {
                    "symbol": "circle"
                  },
                  "mode": "lines+markers",
                  "name": "meta-llama/Llama-2-7B",
                  "orientation": "v",
                  "showlegend": true,
                  "type": "scatter",
                  "x": [
                    1,
                    2,
                    4,
                    8
                  ],
                  "xaxis": "x2",
                  "y": [
                    92.90716685918653,
                    95.46145419623194,
                    96.79200053431374,
                    97.47128022929218
                  ],
                  "yaxis": "y2"
                },
                {
                  "hovertemplate": "Model=meta-llama/Llama-2-7B<br>Stage=Decode<br>Batch=%{x}<br>Tokens/s=%{y}<extra></extra>",
                  "legendgroup": "meta-llama/Llama-2-7B",
                  "line": {
                    "color": "#636efa",
                    "dash": "solid"
                  },
                  "marker": {
                    "symbol": "circle"
                  },
                  "mode": "lines+markers",
                  "name": "meta-llama/Llama-2-7B",
                  "orientation": "v",
                  "showlegend": false,
                  "type": "scatter",
                  "x": [
                    1,
                    2,
                    4,
                    8
                  ],
                  "xaxis": "x",
                  "y": [
                    560.333648860981,
                    1061.2239664276826,
                    1918.8821669955653,
                    3220.0826625678546
                  ],
                  "yaxis": "y"
                }
              ],
              "layout": {
                "annotations": [
                  {
                    "font": {},
                    "showarrow": false,
                    "text": "Stage=Decode",
                    "textangle": 90,
                    "x": 0.98,
                    "xanchor": "left",
                    "xref": "paper",
                    "y": 0.2425,
                    "yanchor": "middle",
                    "yref": "paper"
                  },
                  {
                    "font": {},
                    "showarrow": false,
                    "text": "Stage=Prefill",
                    "textangle": 90,
                    "x": 0.98,
                    "xanchor": "left",
                    "xref": "paper",
                    "y": 0.7575000000000001,
                    "yanchor": "middle",
                    "yref": "paper"
                  }
                ],
                "font": {
                  "color": "black",
                  "size": 24
                },
                "height": 600,
                "legend": {
                  "title": {
                    "font": {
                      "color": "black"
                    },
                    "text": "Model"
                  },
                  "tracegroupgap": 0
                },
                "margin": {
                  "t": 60
                },
                "template": {
                  "data": {
                    "bar": [
                      {
                        "error_x": {
                          "color": "#2a3f5f"
                        },
                        "error_y": {
                          "color": "#2a3f5f"
                        },
                        "marker": {
                          "line": {
                            "color": "#E5ECF6",
                            "width": 0.5
                          },
                          "pattern": {
                            "fillmode": "overlay",
                            "size": 10,
                            "solidity": 0.2
                          }
                        },
                        "type": "bar"
                      }
                    ],
                    "barpolar": [
                      {
                        "marker": {
                          "line": {
                            "color": "#E5ECF6",
                            "width": 0.5
                          },
                          "pattern": {
                            "fillmode": "overlay",
                            "size": 10,
                            "solidity": 0.2
                          }
                        },
                        "type": "barpolar"
                      }
                    ],
                    "carpet": [
                      {
                        "aaxis": {
                          "endlinecolor": "#2a3f5f",
                          "gridcolor": "white",
                          "linecolor": "white",
                          "minorgridcolor": "white",
                          "startlinecolor": "#2a3f5f"
                        },
                        "baxis": {
                          "endlinecolor": "#2a3f5f",
                          "gridcolor": "white",
                          "linecolor": "white",
                          "minorgridcolor": "white",
                          "startlinecolor": "#2a3f5f"
                        },
                        "type": "carpet"
                      }
                    ],
                    "choropleth": [
                      {
                        "colorbar": {
                          "outlinewidth": 0,
                          "ticks": ""
                        },
                        "type": "choropleth"
                      }
                    ],
                    "contour": [
                      {
                        "colorbar": {
                          "outlinewidth": 0,
                          "ticks": ""
                        },
                        "colorscale": [
                          [
                            0,
                            "#0d0887"
                          ],
                          [
                            0.1111111111111111,
                            "#46039f"
                          ],
                          [
                            0.2222222222222222,
                            "#7201a8"
                          ],
                          [
                            0.3333333333333333,
                            "#9c179e"
                          ],
                          [
                            0.4444444444444444,
                            "#bd3786"
                          ],
                          [
                            0.5555555555555556,
                            "#d8576b"
                          ],
                          [
                            0.6666666666666666,
                            "#ed7953"
                          ],
                          [
                            0.7777777777777778,
                            "#fb9f3a"
                          ],
                          [
                            0.8888888888888888,
                            "#fdca26"
                          ],
                          [
                            1,
                            "#f0f921"
                          ]
                        ],
                        "type": "contour"
                      }
                    ],
                    "contourcarpet": [
                      {
                        "colorbar": {
                          "outlinewidth": 0,
                          "ticks": ""
                        },
                        "type": "contourcarpet"
                      }
                    ],
                    "heatmap": [
                      {
                        "colorbar": {
                          "outlinewidth": 0,
                          "ticks": ""
                        },
                        "colorscale": [
                          [
                            0,
                            "#0d0887"
                          ],
                          [
                            0.1111111111111111,
                            "#46039f"
                          ],
                          [
                            0.2222222222222222,
                            "#7201a8"
                          ],
                          [
                            0.3333333333333333,
                            "#9c179e"
                          ],
                          [
                            0.4444444444444444,
                            "#bd3786"
                          ],
                          [
                            0.5555555555555556,
                            "#d8576b"
                          ],
                          [
                            0.6666666666666666,
                            "#ed7953"
                          ],
                          [
                            0.7777777777777778,
                            "#fb9f3a"
                          ],
                          [
                            0.8888888888888888,
                            "#fdca26"
                          ],
                          [
                            1,
                            "#f0f921"
                          ]
                        ],
                        "type": "heatmap"
                      }
                    ],
                    "heatmapgl": [
                      {
                        "colorbar": {
                          "outlinewidth": 0,
                          "ticks": ""
                        },
                        "colorscale": [
                          [
                            0,
                            "#0d0887"
                          ],
                          [
                            0.1111111111111111,
                            "#46039f"
                          ],
                          [
                            0.2222222222222222,
                            "#7201a8"
                          ],
                          [
                            0.3333333333333333,
                            "#9c179e"
                          ],
                          [
                            0.4444444444444444,
                            "#bd3786"
                          ],
                          [
                            0.5555555555555556,
                            "#d8576b"
                          ],
                          [
                            0.6666666666666666,
                            "#ed7953"
                          ],
                          [
                            0.7777777777777778,
                            "#fb9f3a"
                          ],
                          [
                            0.8888888888888888,
                            "#fdca26"
                          ],
                          [
                            1,
                            "#f0f921"
                          ]
                        ],
                        "type": "heatmapgl"
                      }
                    ],
                    "histogram": [
                      {
                        "marker": {
                          "pattern": {
                            "fillmode": "overlay",
                            "size": 10,
                            "solidity": 0.2
                          }
                        },
                        "type": "histogram"
                      }
                    ],
                    "histogram2d": [
                      {
                        "colorbar": {
                          "outlinewidth": 0,
                          "ticks": ""
                        },
                        "colorscale": [
                          [
                            0,
                            "#0d0887"
                          ],
                          [
                            0.1111111111111111,
                            "#46039f"
                          ],
                          [
                            0.2222222222222222,
                            "#7201a8"
                          ],
                          [
                            0.3333333333333333,
                            "#9c179e"
                          ],
                          [
                            0.4444444444444444,
                            "#bd3786"
                          ],
                          [
                            0.5555555555555556,
                            "#d8576b"
                          ],
                          [
                            0.6666666666666666,
                            "#ed7953"
                          ],
                          [
                            0.7777777777777778,
                            "#fb9f3a"
                          ],
                          [
                            0.8888888888888888,
                            "#fdca26"
                          ],
                          [
                            1,
                            "#f0f921"
                          ]
                        ],
                        "type": "histogram2d"
                      }
                    ],
                    "histogram2dcontour": [
                      {
                        "colorbar": {
                          "outlinewidth": 0,
                          "ticks": ""
                        },
                        "colorscale": [
                          [
                            0,
                            "#0d0887"
                          ],
                          [
                            0.1111111111111111,
                            "#46039f"
                          ],
                          [
                            0.2222222222222222,
                            "#7201a8"
                          ],
                          [
                            0.3333333333333333,
                            "#9c179e"
                          ],
                          [
                            0.4444444444444444,
                            "#bd3786"
                          ],
                          [
                            0.5555555555555556,
                            "#d8576b"
                          ],
                          [
                            0.6666666666666666,
                            "#ed7953"
                          ],
                          [
                            0.7777777777777778,
                            "#fb9f3a"
                          ],
                          [
                            0.8888888888888888,
                            "#fdca26"
                          ],
                          [
                            1,
                            "#f0f921"
                          ]
                        ],
                        "type": "histogram2dcontour"
                      }
                    ],
                    "mesh3d": [
                      {
                        "colorbar": {
                          "outlinewidth": 0,
                          "ticks": ""
                        },
                        "type": "mesh3d"
                      }
                    ],
                    "parcoords": [
                      {
                        "line": {
                          "colorbar": {
                            "outlinewidth": 0,
                            "ticks": ""
                          }
                        },
                        "type": "parcoords"
                      }
                    ],
                    "pie": [
                      {
                        "automargin": true,
                        "type": "pie"
                      }
                    ],
                    "scatter": [
                      {
                        "fillpattern": {
                          "fillmode": "overlay",
                          "size": 10,
                          "solidity": 0.2
                        },
                        "type": "scatter"
                      }
                    ],
                    "scatter3d": [
                      {
                        "line": {
                          "colorbar": {
                            "outlinewidth": 0,
                            "ticks": ""
                          }
                        },
                        "marker": {
                          "colorbar": {
                            "outlinewidth": 0,
                            "ticks": ""
                          }
                        },
                        "type": "scatter3d"
                      }
                    ],
                    "scattercarpet": [
                      {
                        "marker": {
                          "colorbar": {
                            "outlinewidth": 0,
                            "ticks": ""
                          }
                        },
                        "type": "scattercarpet"
                      }
                    ],
                    "scattergeo": [
                      {
                        "marker": {
                          "colorbar": {
                            "outlinewidth": 0,
                            "ticks": ""
                          }
                        },
                        "type": "scattergeo"
                      }
                    ],
                    "scattergl": [
                      {
                        "marker": {
                          "colorbar": {
                            "outlinewidth": 0,
                            "ticks": ""
                          }
                        },
                        "type": "scattergl"
                      }
                    ],
                    "scattermapbox": [
                      {
                        "marker": {
                          "colorbar": {
                            "outlinewidth": 0,
                            "ticks": ""
                          }
                        },
                        "type": "scattermapbox"
                      }
                    ],
                    "scatterpolar": [
                      {
                        "marker": {
                          "colorbar": {
                            "outlinewidth": 0,
                            "ticks": ""
                          }
                        },
                        "type": "scatterpolar"
                      }
                    ],
                    "scatterpolargl": [
                      {
                        "marker": {
                          "colorbar": {
                            "outlinewidth": 0,
                            "ticks": ""
                          }
                        },
                        "type": "scatterpolargl"
                      }
                    ],
                    "scatterternary": [
                      {
                        "marker": {
                          "colorbar": {
                            "outlinewidth": 0,
                            "ticks": ""
                          }
                        },
                        "type": "scatterternary"
                      }
                    ],
                    "surface": [
                      {
                        "colorbar": {
                          "outlinewidth": 0,
                          "ticks": ""
                        },
                        "colorscale": [
                          [
                            0,
                            "#0d0887"
                          ],
                          [
                            0.1111111111111111,
                            "#46039f"
                          ],
                          [
                            0.2222222222222222,
                            "#7201a8"
                          ],
                          [
                            0.3333333333333333,
                            "#9c179e"
                          ],
                          [
                            0.4444444444444444,
                            "#bd3786"
                          ],
                          [
                            0.5555555555555556,
                            "#d8576b"
                          ],
                          [
                            0.6666666666666666,
                            "#ed7953"
                          ],
                          [
                            0.7777777777777778,
                            "#fb9f3a"
                          ],
                          [
                            0.8888888888888888,
                            "#fdca26"
                          ],
                          [
                            1,
                            "#f0f921"
                          ]
                        ],
                        "type": "surface"
                      }
                    ],
                    "table": [
                      {
                        "cells": {
                          "fill": {
                            "color": "#EBF0F8"
                          },
                          "line": {
                            "color": "white"
                          }
                        },
                        "header": {
                          "fill": {
                            "color": "#C8D4E3"
                          },
                          "line": {
                            "color": "white"
                          }
                        },
                        "type": "table"
                      }
                    ]
                  },
                  "layout": {
                    "annotationdefaults": {
                      "arrowcolor": "#2a3f5f",
                      "arrowhead": 0,
                      "arrowwidth": 1
                    },
                    "autotypenumbers": "strict",
                    "coloraxis": {
                      "colorbar": {
                        "outlinewidth": 0,
                        "ticks": ""
                      }
                    },
                    "colorscale": {
                      "diverging": [
                        [
                          0,
                          "#8e0152"
                        ],
                        [
                          0.1,
                          "#c51b7d"
                        ],
                        [
                          0.2,
                          "#de77ae"
                        ],
                        [
                          0.3,
                          "#f1b6da"
                        ],
                        [
                          0.4,
                          "#fde0ef"
                        ],
                        [
                          0.5,
                          "#f7f7f7"
                        ],
                        [
                          0.6,
                          "#e6f5d0"
                        ],
                        [
                          0.7,
                          "#b8e186"
                        ],
                        [
                          0.8,
                          "#7fbc41"
                        ],
                        [
                          0.9,
                          "#4d9221"
                        ],
                        [
                          1,
                          "#276419"
                        ]
                      ],
                      "sequential": [
                        [
                          0,
                          "#0d0887"
                        ],
                        [
                          0.1111111111111111,
                          "#46039f"
                        ],
                        [
                          0.2222222222222222,
                          "#7201a8"
                        ],
                        [
                          0.3333333333333333,
                          "#9c179e"
                        ],
                        [
                          0.4444444444444444,
                          "#bd3786"
                        ],
                        [
                          0.5555555555555556,
                          "#d8576b"
                        ],
                        [
                          0.6666666666666666,
                          "#ed7953"
                        ],
                        [
                          0.7777777777777778,
                          "#fb9f3a"
                        ],
                        [
                          0.8888888888888888,
                          "#fdca26"
                        ],
                        [
                          1,
                          "#f0f921"
                        ]
                      ],
                      "sequentialminus": [
                        [
                          0,
                          "#0d0887"
                        ],
                        [
                          0.1111111111111111,
                          "#46039f"
                        ],
                        [
                          0.2222222222222222,
                          "#7201a8"
                        ],
                        [
                          0.3333333333333333,
                          "#9c179e"
                        ],
                        [
                          0.4444444444444444,
                          "#bd3786"
                        ],
                        [
                          0.5555555555555556,
                          "#d8576b"
                        ],
                        [
                          0.6666666666666666,
                          "#ed7953"
                        ],
                        [
                          0.7777777777777778,
                          "#fb9f3a"
                        ],
                        [
                          0.8888888888888888,
                          "#fdca26"
                        ],
                        [
                          1,
                          "#f0f921"
                        ]
                      ]
                    },
                    "colorway": [
                      "#636efa",
                      "#EF553B",
                      "#00cc96",
                      "#ab63fa",
                      "#FFA15A",
                      "#19d3f3",
                      "#FF6692",
                      "#B6E880",
                      "#FF97FF",
                      "#FECB52"
                    ],
                    "font": {
                      "color": "#2a3f5f"
                    },
                    "geo": {
                      "bgcolor": "white",
                      "lakecolor": "white",
                      "landcolor": "#E5ECF6",
                      "showlakes": true,
                      "showland": true,
                      "subunitcolor": "white"
                    },
                    "hoverlabel": {
                      "align": "left"
                    },
                    "hovermode": "closest",
                    "mapbox": {
                      "style": "light"
                    },
                    "paper_bgcolor": "white",
                    "plot_bgcolor": "#E5ECF6",
                    "polar": {
                      "angularaxis": {
                        "gridcolor": "white",
                        "linecolor": "white",
                        "ticks": ""
                      },
                      "bgcolor": "#E5ECF6",
                      "radialaxis": {
                        "gridcolor": "white",
                        "linecolor": "white",
                        "ticks": ""
                      }
                    },
                    "scene": {
                      "xaxis": {
                        "backgroundcolor": "#E5ECF6",
                        "gridcolor": "white",
                        "gridwidth": 2,
                        "linecolor": "white",
                        "showbackground": true,
                        "ticks": "",
                        "zerolinecolor": "white"
                      },
                      "yaxis": {
                        "backgroundcolor": "#E5ECF6",
                        "gridcolor": "white",
                        "gridwidth": 2,
                        "linecolor": "white",
                        "showbackground": true,
                        "ticks": "",
                        "zerolinecolor": "white"
                      },
                      "zaxis": {
                        "backgroundcolor": "#E5ECF6",
                        "gridcolor": "white",
                        "gridwidth": 2,
                        "linecolor": "white",
                        "showbackground": true,
                        "ticks": "",
                        "zerolinecolor": "white"
                      }
                    },
                    "shapedefaults": {
                      "line": {
                        "color": "#2a3f5f"
                      }
                    },
                    "ternary": {
                      "aaxis": {
                        "gridcolor": "white",
                        "linecolor": "white",
                        "ticks": ""
                      },
                      "baxis": {
                        "gridcolor": "white",
                        "linecolor": "white",
                        "ticks": ""
                      },
                      "bgcolor": "#E5ECF6",
                      "caxis": {
                        "gridcolor": "white",
                        "linecolor": "white",
                        "ticks": ""
                      }
                    },
                    "title": {
                      "x": 0.05
                    },
                    "xaxis": {
                      "automargin": true,
                      "gridcolor": "white",
                      "linecolor": "white",
                      "ticks": "",
                      "title": {
                        "standoff": 15
                      },
                      "zerolinecolor": "white",
                      "zerolinewidth": 2
                    },
                    "yaxis": {
                      "automargin": true,
                      "gridcolor": "white",
                      "linecolor": "white",
                      "ticks": "",
                      "title": {
                        "standoff": 15
                      },
                      "zerolinecolor": "white",
                      "zerolinewidth": 2
                    }
                  }
                },
                "title": {
                  "font": {
                    "color": "black"
                  }
                },
                "width": 1200,
                "xaxis": {
                  "anchor": "y",
                  "domain": [
                    0,
                    0.98
                  ],
                  "tickfont": {
                    "size": 24
                  },
                  "title": {
                    "font": {
                      "size": 24
                    },
                    "text": "Batch"
                  }
                },
                "xaxis2": {
                  "anchor": "y2",
                  "domain": [
                    0,
                    0.98
                  ],
                  "matches": "x",
                  "showticklabels": false,
                  "tickfont": {
                    "size": 24
                  },
                  "title": {
                    "font": {
                      "size": 24
                    }
                  }
                },
                "yaxis": {
                  "anchor": "x",
                  "domain": [
                    0,
                    0.485
                  ],
                  "tickfont": {
                    "size": 24
                  },
                  "title": {
                    "font": {
                      "size": 24
                    },
                    "text": "Tokens/s"
                  }
                },
                "yaxis2": {
                  "anchor": "x2",
                  "domain": [
                    0.515,
                    1
                  ],
                  "tickfont": {
                    "size": 24
                  },
                  "title": {
                    "font": {
                      "size": 24
                    },
                    "text": "Tokens/s"
                  }
                }
              }
            }
          },
          "metadata": {},
          "output_type": "display_data"
        },
        {
          "data": {
            "application/vnd.jupyter.widget-view+json": {
              "model_id": "a1f706bd37424bea9f368e3ce7415308",
              "version_major": 2,
              "version_minor": 0
            },
            "text/plain": [
              "interactive(children=(Dropdown(description='System:', index=2, options=('A100_40GB_GPU', 'A100_80GB_GPU', 'H10…"
            ]
          },
          "metadata": {},
          "output_type": "display_data"
        },
        {
          "data": {
            "application/vnd.jupyter.widget-view+json": {
              "model_id": "17dff873e25246a3b968dd36b658965d",
              "version_major": 2,
              "version_minor": 0
            },
            "text/plain": [
              "VBox(children=(HBox(children=(SelectMultiple(description='Models:', index=(0,), layout=Layout(height='150px', …"
            ]
          },
          "metadata": {},
          "output_type": "display_data"
        }
      ],
      "source": [
        "from utils import *\n",
        "# Set up interactive widgets for the variables\n",
        "from ipywidgets import interact, IntSlider, Checkbox, BoundedIntText, BoundedFloatText, Dropdown\n",
        "import ipywidgets as widgets\n",
        "\n",
        "\n",
        "# Max Batch Size\n",
        "max_batch_size = widgets.BoundedIntText(\n",
        "    value=8, min=1, max=128, step=1,\n",
        "    description='Max Batch Size:',\n",
        "    disabled=False ,\n",
        "    layout=widgets.Layout(width='150px'),  # Adjust this value as needed\n",
        "    style={'description_width': 'initial'}\n",
        ")\n",
        "\n",
        "# Custom Usecases\n",
        "usecases = Dropdown( options=['Ques-Ans', 'Text Summarization', 'Chatbots', 'Code Gen.', 'Custom'], value='Chatbots', description='Usecases:', disabled=False,)\n",
        "\n",
        "# Beam size\n",
        "beam_size = widgets.IntSlider(value=2, min=1, max=16, description='# of Parallel Beams:', style={'description_width': 'initial'},)\n",
        "\n",
        "# Input Tokens\n",
        "input_tokens = widgets.BoundedIntText(\n",
        "    value=2048, min=1, max= 100000, step=1,\n",
        "    description='Input Tokens:',\n",
        "    disabled=False ,\n",
        "    layout=widgets.Layout(width='150px'),  # Adjust this value as needed\n",
        "    style={'description_width': 'initial'}\n",
        ")\n",
        "\n",
        "# Output Tokens\n",
        "output_tokens = widgets.BoundedIntText(\n",
        "    value=128, min=1, max= 100000, step=1,\n",
        "    description='Output Tokens:',\n",
        "    disabled=False ,\n",
        "    layout=widgets.Layout(width='150px'),  # Adjust this value as needed\n",
        "    style={'description_width': 'initial'}\n",
        ")\n",
        "\n",
        "# Quantization dropdown\n",
        "quantization = widgets.Dropdown(\n",
        "    options=['bf16', 'int8', 'int4', 'int2'],\n",
        "    value='int8',\n",
        "    description='Quantization:',\n",
        "    disabled=False ,\n",
        "    layout=widgets.Layout(width='150px'),  # Adjust this value as needed\n",
        "    style={'description_width': 'initial'},\n",
        "    \n",
        ")\n",
        "model_box = widgets.SelectMultiple( options=[\n",
        "    ('meta-llama/Llama-2-7B','llama2_7b'),\n",
        "    ('meta-llama/Meta-Llama-3-8B','llama3_8b'), \n",
        "    ('meta-llama/Llama-2-13B','llama_13b'),\n",
        "    ('meta-llama/Llama-2-70B','LLaMA_70b'),\n",
        "    ('google/gemma-2B','gemma_2b'),\n",
        "    ('google/gemma-7B','gemma_7b'),\n",
        "    ('google/gemma-2-9B','gemma2_9b'),\n",
        "    ('google/gemma-2-27B','gemma2_27b'),\n",
        "    ('mistralai/mistral-7B', 'mistral_7b'),\n",
        "    ('mistralai/Mixtral-8x7B','mixtral_8x7b'), \n",
        "    ('microsoft/phi3mini', 'phi3mini'),\n",
        "    ('microsoft/phi3small', 'phi3small'),\n",
        "    ('microsoft/phi3medium', 'phi3medium'),\n",
        "    ('databricks/dbrx-base','dbrx'),\n",
        "    ('xai-org/grok-1','grok-1'),\n",
        "    ('openai/gpt-3','gpt-3'), \n",
        "    ('openai/gpt-4','gpt-4'),\n",
        "    ('facebook/opt-125m','opt_125m'),\n",
        "    ('facebook/opt-350m','opt_350m'),\n",
        "    ('facebook/opt-1.3b','opt_1b'),\n",
        "    ('facebook/opt-175b','opt_175b'),\n",
        "    ], value=['llama2_7b'], \n",
        "    description='Models:', \n",
        "    disabled=False,\n",
        "    layout=widgets.Layout(width='300px', height='150px'))\n",
        "# System\n",
        "system = Dropdown( options=['A100_40GB_GPU', 'A100_80GB_GPU', 'H100_GPU','GH200_GPU', 'TPUv4','TPUv5e', 'MI300X', 'Gaudi3', 'Custom'], value='H100_GPU', description='System:', disabled=False,)\n",
        "\n",
        "# Number of Nodes\n",
        "nodes = widgets.IntText(\n",
        "    value=2,\n",
        "    description='# Nodes:',\n",
        "    layout=widgets.Layout(width='150px'),  # Adjust this value as needed\n",
        "    disabled=False\n",
        ")\n",
        "\n",
        "# System Efficiency\n",
        "system_efficiency = widgets.FloatSlider(\n",
        "    value=0.80,\n",
        "    min=0,\n",
        "    max=1.0,\n",
        "    step=0.01,\n",
        "    description='System Efficiency:',\n",
        "    disabled=False,\n",
        "    continuous_update=False,\n",
        "    orientation='horizontal',\n",
        "    readout=True,\n",
        "    readout_format='.2f',\n",
        ")\n",
        "\n",
        "\n",
        "# FLOPS (initially hidden)\n",
        "flops = widgets.FloatText(value=1000,description='FLOPS(T):',disabled=False, layout=widgets.Layout(width='200px'),)\n",
        "# MEM BW (initially hidden)\n",
        "mem_bw = widgets.FloatText(value=3.6,description='MEM BW(TB/s):',disabled=False, layout=widgets.Layout(width='200px'),)\n",
        "# FLOPS (initially hidden)\n",
        "mem_cap = widgets.FloatText(value=48,description='FLOPS(GBs):',disabled=False, layout=widgets.Layout(width='200px'),)\n",
        "# ICN BW (initially hidden)\n",
        "icn_bw = widgets.FloatText(value=100.0,description='ICN BW(GB/s):',disabled=False, layout=widgets.Layout(width='200px'),)\n",
        "\n",
        "\n",
        "# Function to show/hide FLOPS and MEM BW\n",
        "def update_visibility_system_param(change):\n",
        "    if 'Custom' in change['new']:\n",
        "        flops.layout.display = ''\n",
        "        mem_bw.layout.display = ''\n",
        "        mem_cap.layout.display = ''\n",
        "        icn_bw.layout.display = ''\n",
        "    else:\n",
        "        flops.layout.display = 'none'\n",
        "        mem_bw.layout.display = 'none'\n",
        "        mem_cap.layout.display = 'none'\n",
        "        icn_bw.layout.display = 'none'\n",
        "\n",
        "# Connect the function to the models widget\n",
        "system.observe(update_visibility_system_param, names='value')\n",
        "\n",
        "# Function to show/hide FLOPS and MEM BW\n",
        "def update_visibility_usecases(change):\n",
        "    if 'Ques-Ans' in change['new']:\n",
        "        beam_size.value = 4\n",
        "        input_tokens.value = 1000\n",
        "        output_tokens.value = 200\n",
        "    elif 'Text Summarization' in change['new']:\n",
        "        beam_size.value = 4\n",
        "        input_tokens.value = 15000\n",
        "        output_tokens.value = 1000\n",
        "    elif 'Chatbots' in change['new']:\n",
        "        beam_size.value = 2\n",
        "        input_tokens.value = 2048\n",
        "        output_tokens.value = 128\n",
        "    elif 'Code Gen.' in change['new']:\n",
        "        beam_size.value = 4\n",
        "        input_tokens.value = 20000\n",
        "        output_tokens.value = 50\n",
        "\n",
        "# Connect the function to the models widget\n",
        "usecases.observe(update_visibility_usecases, names='value')\n",
        "\n",
        "# # Initially hide custom params\n",
        "# beam_size.layout.display = 'none'\n",
        "# input_tokens.layout.display = 'none'\n",
        "# output_tokens.layout.display = 'none'\n",
        "\n",
        "flops.layout.display = 'none'\n",
        "mem_bw.layout.display = 'none'\n",
        "mem_cap.layout.display = 'none'\n",
        "icn_bw.layout.display = 'none'\n",
        "\n",
        "# Layout\n",
        "left_box = widgets.HBox([quantization, max_batch_size])\n",
        "input_param_box = widgets.VBox([usecases, beam_size,widgets.HBox([ input_tokens, output_tokens])])\n",
        "top_box = widgets.VBox([left_box, input_param_box, ])\n",
        "bottom_box = widgets.HBox([system, nodes, system_efficiency])\n",
        "system_bottom_box = widgets.HBox([flops, mem_bw, mem_cap, icn_bw])\n",
        "\n",
        "\n",
        "# Final layout\n",
        "final_layout = widgets.VBox([widgets.HBox([model_box,top_box]), bottom_box, system_bottom_box], layout=widgets.Layout(justify_content='space-between'))\n",
        "\n",
        "widgets.interact(generate_demand_curve,\n",
        "    system_box=system, \n",
        "    system_eff=system_efficiency, \n",
        "    num_nodes_slider=nodes, \n",
        "    model_box=model_box, \n",
        "    quantization_box=quantization,\n",
        "    batch_slider=max_batch_size, \n",
        "    input_token_slider=input_tokens, \n",
        "    output_token_slider=output_tokens, \n",
        "    beam_size = beam_size, \n",
        "    flops=flops,\n",
        "    mem_bw=mem_bw,\n",
        "    mem_cap=mem_cap,\n",
        "    icn_bw=icn_bw)\n",
        "\n",
        "display(final_layout)\n",
        "\n"
      ]
    },
    {
      "cell_type": "code",
      "execution_count": null,
      "metadata": {},
      "outputs": [],
      "source": []
    }
  ],
  "metadata": {
    "colab": {
      "provenance": []
    },
    "kernelspec": {
      "display_name": "genz_test",
      "language": "python",
      "name": "python3"
    },
    "language_info": {
      "codemirror_mode": {
        "name": "ipython",
        "version": 3
      },
      "file_extension": ".py",
      "mimetype": "text/x-python",
      "name": "python",
      "nbconvert_exporter": "python",
      "pygments_lexer": "ipython3",
      "version": "3.11.9"
    }
  },
  "nbformat": 4,
  "nbformat_minor": 0
}
